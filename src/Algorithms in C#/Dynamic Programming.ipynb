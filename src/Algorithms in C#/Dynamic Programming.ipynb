{
 "cells": [
  {
   "cell_type": "markdown",
   "metadata": {
    "dotnet_interactive": {
     "language": "csharp"
    }
   },
   "source": [
    "# Selected Dynamic Programming Problems"
   ]
  },
  {
   "cell_type": "markdown",
   "metadata": {
    "dotnet_interactive": {
     "language": "csharp"
    }
   },
   "source": [
    "Use or install packages."
   ]
  },
  {
   "cell_type": "code",
   "execution_count": null,
   "metadata": {
    "dotnet_interactive": {
     "language": "csharp"
    }
   },
   "outputs": [
    {
     "data": {
      "text/html": [
       "<div><div></div><div></div><div><strong>Installed Packages</strong><ul><li><span>Microsoft.Extensions.Logging, 6.0.0</span></li></ul></div></div>"
      ]
     },
     "metadata": {},
     "output_type": "display_data"
    }
   ],
   "source": [
    "#r \"nuget: Microsoft.Extensions.Logging\""
   ]
  },
  {
   "cell_type": "code",
   "execution_count": null,
   "metadata": {
    "dotnet_interactive": {
     "language": "csharp"
    }
   },
   "outputs": [],
   "source": [
    "using System;\n",
    "using System.Linq;\n",
    "using System.Diagnostics;\n",
    "using Microsoft.Extensions.Logging;"
   ]
  },
  {
   "cell_type": "markdown",
   "metadata": {
    "dotnet_interactive": {
     "language": "csharp"
    }
   },
   "source": [
    "Fibonacci Sequence"
   ]
  },
  {
   "cell_type": "markdown",
   "metadata": {
    "dotnet_interactive": {
     "language": "csharp"
    }
   },
   "source": [
    "Find the n^th number in the Fibonacci sequence."
   ]
  },
  {
   "cell_type": "code",
   "execution_count": null,
   "metadata": {
    "dotnet_interactive": {
     "language": "csharp"
    }
   },
   "outputs": [],
   "source": [
    "uint Finbonacci(uint n) {\n",
    "    // edge cases\n",
    "    if(n <= 2)\n",
    "        return 1;\n",
    "    else {\n",
    "        uint x, y, z;\n",
    "        x = y = 1;\n",
    "        for(uint i = 3; i <= n; i++) {\n",
    "            z = x + y;\n",
    "            x = y;\n",
    "            y = z;\n",
    "        }\n",
    "        return y;\n",
    "    }\n",
    "}"
   ]
  },
  {
   "cell_type": "code",
   "execution_count": null,
   "metadata": {
    "dotnet_interactive": {
     "language": "csharp"
    }
   },
   "outputs": [
    {
     "name": "stdout",
     "output_type": "stream",
     "text": [
      "1\n",
      "1\n",
      "2\n",
      "3\n",
      "5\n",
      "8\n",
      "13\n",
      "21\n",
      "34\n",
      "55\n",
      "89\n",
      "144\n",
      "233\n",
      "377\n",
      "610\n",
      "987\n",
      "1597\n",
      "2584\n",
      "4181\n",
      "6765\n",
      "10946\n",
      "17711\n",
      "28657\n",
      "46368\n",
      "75025\n"
     ]
    }
   ],
   "source": [
    "\n",
    "foreach(var n in Enumerable.Range(1, 25).Select(x => (uint)x))\n",
    "    Console.WriteLine(Finbonacci(n));"
   ]
  },
  {
   "cell_type": "markdown",
   "metadata": {},
   "source": [
    "Unweighted Knapsack Problem"
   ]
  },
  {
   "cell_type": "code",
   "execution_count": null,
   "metadata": {
    "dotnet_interactive": {
     "language": "csharp"
    }
   },
   "outputs": [],
   "source": [
    "Debugger.Launch();\n",
    "if(Debugger.IsAttached) {\n",
    "    Debugger.Break();\n",
    "    Console.WriteLine(\"Debugger is attached.\");\n",
    "}"
   ]
  },
  {
   "cell_type": "code",
   "execution_count": null,
   "metadata": {
    "dotnet_interactive": {
     "language": "csharp"
    }
   },
   "outputs": [],
   "source": [
    "/// <summary> Class <c> KnapSack </c> represents the KnapSack problem. </summary>\n",
    "/// assume items are ordered in descending value / weight ratio\n",
    "class KnapSack {\n",
    "    /* VARIABLES */\n",
    "    private uint[,] table; // dp table\n",
    "    private uint[,,] valueCounts; // keeps count of how many items of each kind are taken in optimal solution\n",
    "    private uint result;\n",
    "\n",
    "    /* PRIMARY METHOD */\n",
    "    /// <summary> method <c> solve </c> finds the optimal sum of values accumulated in knapsack. </summary>\n",
    "    /// <param> wts </param> is array of weights for available items to steal into knapsack.\n",
    "    /// <param> values </param> is array telling how much each item is worth.\n",
    "    /// <param> capacity </param> is maximum cumulative weight that knapsack can hold.\n",
    "    public void solve(uint[] wts, uint[] values, uint capacity) {\n",
    "        // Exceptions and edge cases\n",
    "        Debug.Assert(wts.Length == values.Length);\n",
    "        if(capacity == 0) {\n",
    "            result = 0;\n",
    "            return;\n",
    "        }\n",
    "\n",
    "        Debugger.Break();\n",
    "        Debugger.Log((int)LogLevel.Debug, \"Initialization\", \"Before initializing talbe and valueCounts.\");\n",
    "        table = new uint[wts.Length, capacity];\n",
    "        valueCounts = new uint[wts.Length, capacity, wts.Length];\n",
    "\n",
    "        // initialize first row of table\n",
    "        Debugger.Break();\n",
    "        for(uint j = 0; j < capacity; j++) {\n",
    "            table[0, j] = (uint)(j / wts[0]) * values[0];\n",
    "            valueCounts[0, j, 0] = (uint)(j / wts[0]);\n",
    "        }\n",
    "\n",
    "        // rest of \n",
    "        Debugger.Break();\n",
    "        for(uint i = 1; i < wts.Length; i++)\n",
    "            for(uint j = 0; i < capacity; j++) {\n",
    "                // initially copying count of each item before considering i^th item to add\n",
    "                for(uint k = 0; k < wts.Length; k++)\n",
    "                    valueCounts[i, j, k] = valueCounts[i, j - 1, k];\n",
    "\n",
    "                if(j < wts[i]) {\n",
    "                    table[i, j] = table[i, j - 1];\n",
    "                } else if(table[i, j - 1] >= table[i - wts[i], j] + wts[i]) {\n",
    "                    table[i, j] = table[i, j - 1];\n",
    "                } else {\n",
    "                    table[i, j] = table[i - wts[i], j] + wts[i];\n",
    "                    valueCounts[i, j, i]++;\n",
    "                }\n",
    "            }\n",
    "    }\n",
    "\n",
    "    /* ACCESSORS */\n",
    "\n",
    "    /// <summary> property <c> Table </c> gets dynamic programming table. </summary>\n",
    "    public uint[,] Table {\n",
    "        get => table;\n",
    "    }\n",
    "\n",
    "    /// <summary> proprty <c> ValueCounts </c> gets 3D array of frequencies of each item collected for each entry in DP table.\n",
    "    public uint[,,] ValueCounts {\n",
    "        get => valueCounts;\n",
    "    }\n",
    "\n",
    "    /// <summary> proprty <c> Result </c> gets maximum cumulative value attainable with given capacity.\n",
    "    public uint Result {\n",
    "        get => result;\n",
    "    }\n",
    "}"
   ]
  },
  {
   "cell_type": "code",
   "execution_count": null,
   "metadata": {
    "dotnet_interactive": {
     "language": "csharp"
    }
   },
   "outputs": [
    {
     "ename": "Error",
     "evalue": "System.IndexOutOfRangeException: Index was outside the bounds of the array.\n   at Submission#30.KnapSack.solve(UInt32[] wts, UInt32[] values, UInt32 capacity)\n   at Submission#31.<<Initialize>>d__0.MoveNext()\n--- End of stack trace from previous location ---\n   at Microsoft.CodeAnalysis.Scripting.ScriptExecutionState.RunSubmissionsAsync[TResult](ImmutableArray`1 precedingExecutors, Func`2 currentExecutor, StrongBox`1 exceptionHolderOpt, Func`2 catchExceptionOpt, CancellationToken cancellationToken)",
     "output_type": "error",
     "traceback": [
      "System.IndexOutOfRangeException: Index was outside the bounds of the array.\n",
      "   at Submission#30.KnapSack.solve(UInt32[] wts, UInt32[] values, UInt32 capacity)\n",
      "   at Submission#31.<<Initialize>>d__0.MoveNext()\n",
      "--- End of stack trace from previous location ---\n",
      "   at Microsoft.CodeAnalysis.Scripting.ScriptExecutionState.RunSubmissionsAsync[TResult](ImmutableArray`1 precedingExecutors, Func`2 currentExecutor, StrongBox`1 exceptionHolderOpt, Func`2 catchExceptionOpt, CancellationToken cancellationToken)"
     ]
    }
   ],
   "source": [
    "uint[] values = { 10, 20, 30 };\n",
    "uint[] wts = { 60, 100, 120 };\n",
    "\n",
    "KnapSack example = new KnapSack();\n",
    "example.solve(wts, values, 50);\n",
    "// Console.WriteLine(example.Result);"
   ]
  },
  {
   "cell_type": "markdown",
   "metadata": {
    "dotnet_interactive": {
     "language": "csharp"
    }
   },
   "source": [
    "Balanced 0-1 Matrix"
   ]
  },
  {
   "cell_type": "markdown",
   "metadata": {
    "dotnet_interactive": {
     "language": "csharp"
    }
   },
   "source": [
    "For an n x n matrix, where n is even, with elements being either 0 or 1. Find out how many ways a matrix can be built such that each row and column have equal number of 0s and 1s (n / 2)."
   ]
  },
  {
   "cell_type": "code",
   "execution_count": null,
   "metadata": {
    "dotnet_interactive": {
     "language": "csharp"
    }
   },
   "outputs": [],
   "source": []
  }
 ],
 "metadata": {
  "kernelspec": {
   "display_name": ".NET (C#)",
   "language": "C#",
   "name": ".net-csharp"
  },
  "language_info": {
   "file_extension": ".cs",
   "mimetype": "text/x-csharp",
   "name": "C#",
   "pygments_lexer": "csharp",
   "version": "9.0"
  },
  "orig_nbformat": 4
 },
 "nbformat": 4,
 "nbformat_minor": 2
}
