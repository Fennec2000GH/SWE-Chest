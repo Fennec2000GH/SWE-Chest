{
 "cells": [
  {
   "cell_type": "markdown",
   "id": "b30a22da",
   "metadata": {},
   "source": [
    "# Diesel ORN Demo"
   ]
  },
  {
   "cell_type": "markdown",
   "id": "8d97eac4",
   "metadata": {},
   "source": [
    "Tutorial URL:<br>\n",
    "https://levelup.gitconnected.com/using-sqlite-with-rust-and-actix-web-with-tests-11a935ac3d95"
   ]
  },
  {
   "cell_type": "markdown",
   "id": "57f6c8a7",
   "metadata": {},
   "source": [
    "Installing necessary packages."
   ]
  },
  {
   "cell_type": "code",
   "execution_count": 18,
   "id": "43961b25",
   "metadata": {},
   "outputs": [
    {
     "name": "stdout",
     "output_type": "stream",
     "text": [
      "Ok(\"/mnt/d/Users/qcaij/OneDrive - University of Florida/DESKTOP-1S7D2TD/qcaij/Documents/GitHub/Software-Engineering-Interview/src/Rust Practice/std demo\\n\")\n",
      "Ok(\"Reading package lists...\\nBuilding dependency tree...\\nReading state information...\\ncargo is already the newest version (0.47.0-1~exp1ubuntu1~20.04.1).\\nCalculating upgrade...\\nThe following package was automatically installed and is no longer required:\\n  libnuget-core-cil\\nUse \\'sudo apt autoremove\\' to remove it.\\nThe following packages have been kept back:\\n  base-files ca-certificates-mono libmono-2.0-1 libmono-2.0-dev\\n  libmono-accessibility4.0-cil libmono-cairo4.0-cil libmono-cecil-private-cil\\n  libmono-cil-dev libmono-codecontracts4.0-cil\\n  libmono-compilerservices-symbolwriter4.0-cil libmono-corlib4.5-cil\\n  libmono-cscompmgd0.0-cil libmono-csharp4.0c-cil\\n  libmono-custommarshalers4.0-cil libmono-data-tds4.0-cil libmono-db2-1.0-cil\\n  libmono-debugger-soft4.0a-cil libmono-http4.0-cil libmono-i18n-cjk4.0-cil\\n  libmono-i18n-mideast4.0-cil libmono-i18n-other4.0-cil\\n  libmono-i18n-rare4.0-cil libmono-i18n-west4.0-cil libmono-i18n4.0-all\\n  libmono-i18n4.0-cil libmono-ldap4.0-cil libmono-management4.0-cil\\n  libmono-messaging-rabbitmq4.0-cil libmono-messaging4.0-cil\\n  libmono-microsoft-build-engine4.0-cil\\n  libmono-microsoft-build-framework4.0-cil\\n  libmono-microsoft-build-tasks-v4.0-4.0-cil\\n  libmono-microsoft-build-utilities-v4.0-4.0-cil\\n  libmono-microsoft-build4.0-cil libmono-microsoft-csharp4.0-cil\\n  libmono-microsoft-visualc10.0-cil\\n  libmono-microsoft-web-infrastructure1.0-cil libmono-oracle4.0-cil\\n  libmono-parallel4.0-cil libmono-peapi4.0a-cil libmono-posix4.0-cil\\n  libmono-profiler libmono-rabbitmq4.0-cil libmono-relaxng4.0-cil\\n  libmono-security4.0-cil libmono-sharpzip4.84-cil libmono-simd4.0-cil\\n  libmono-smdiagnostics0.0-cil libmono-sqlite4.0-cil\\n  libmono-system-componentmodel-composition4.0-cil\\n  libmono-system-componentmodel-dataannotations4.0-cil\\n  libmono-system-configuration-install4.0-cil\\n  libmono-system-configuration4.0-cil libmono-system-core4.0-cil\\n  libmono-system-data-datasetextensions4.0-cil\\n  libmono-system-data-entity4.0-cil libmono-system-data-linq4.0-cil\\n  libmono-system-data-services-client4.0-cil\\n  libmono-system-data-services4.0-cil libmono-system-data4.0-cil\\n  libmono-system-deployment4.0-cil libmono-system-design4.0-cil\\n  libmono-system-drawing-design4.0-cil libmono-system-drawing4.0-cil\\n  libmono-system-dynamic4.0-cil libmono-system-enterpriseservices4.0-cil\\n  libmono-system-identitymodel-selectors4.0-cil\\n  libmono-system-identitymodel4.0-cil\\n  libmono-system-io-compression-filesystem4.0-cil\\n  libmono-system-io-compression4.0-cil libmono-system-json-microsoft4.0-cil\\n  libmono-system-json4.0-cil libmono-system-ldap-protocols4.0-cil\\n  libmono-system-ldap4.0-cil libmono-system-management4.0-cil\\n  libmono-system-messaging4.0-cil libmono-system-net-http-formatting4.0-cil\\n  libmono-system-net-http-webrequest4.0-cil libmono-system-net-http4.0-cil\\n  libmono-system-net4.0-cil libmono-system-numerics-vectors4.0-cil\\n  libmono-system-numerics4.0-cil libmono-system-reactive-core2.2-cil\\n  libmono-system-reactive-debugger2.2-cil\\n  libmono-system-reactive-experimental2.2-cil\\n  libmono-system-reactive-interfaces2.2-cil\\n  libmono-system-reactive-linq2.2-cil\\n  libmono-system-reactive-observable-aliases0.0-cil\\n  libmono-system-reactive-platformservices2.2-cil\\n  libmono-system-reactive-providers2.2-cil\\n  libmono-system-reactive-runtime-remoting2.2-cil\\n  libmono-system-reactive-windows-forms2.2-cil\\n  libmono-system-reactive-windows-threading2.2-cil\\n  libmono-system-reflection-context4.0-cil\\n  libmono-system-runtime-caching4.0-cil\\n  libmono-system-runtime-durableinstancing4.0-cil\\n  libmono-system-runtime-serialization-formatters-soap4.0-cil\\n  libmono-system-runtime-serialization4.0-cil libmono-system-runtime4.0-cil\\n  libmono-system-security4.0-cil libmono-system-servicemodel-activation4.0-cil\\n  libmono-system-servicemodel-discovery4.0-cil\\n  libmono-system-servicemodel-internals0.0-cil\\n  libmono-system-servicemodel-routing4.0-cil\\n  libmono-system-servicemodel-web4.0-cil libmono-system-servicemodel4.0a-cil\\n  libmono-system-serviceprocess4.0-cil\\n  libmono-system-threading-tasks-dataflow4.0-cil\\n  libmono-system-transactions4.0-cil libmono-system-web-abstractions4.0-cil\\n  libmono-system-web-applicationservices4.0-cil\\n  libmono-system-web-dynamicdata4.0-cil\\n  libmono-system-web-extensions-design4.0-cil\\n  libmono-system-web-extensions4.0-cil libmono-system-web-http-selfhost4.0-cil\\n  libmono-system-web-http-webhost4.0-cil libmono-system-web-http4.0-cil\\n  libmono-system-web-mobile4.0-cil libmono-system-web-mvc3.0-cil\\n  libmono-system-web-razor2.0-cil libmono-system-web-regularexpressions4.0-cil\\n  libmono-system-web-routing4.0-cil libmono-system-web-services4.0-cil\\n  libmono-system-web-webpages-deployment2.0-cil\\n  libmono-system-web-webpages-razor2.0-cil libmono-system-web-webpages2.0-cil\\n  libmono-system-web4.0-cil\\n  libmono-system-windows-forms-datavisualization4.0a-cil\\n  libmono-system-windows-forms4.0-cil libmono-system-windows4.0-cil\\n  libmono-system-workflow-activities4.0-cil\\n  libmono-system-workflow-componentmodel4.0-cil\\n  libmono-system-workflow-runtime4.0-cil libmono-system-xaml4.0-cil\\n  libmono-system-xml-linq4.0-cil libmono-system-xml-serialization4.0-cil\\n  libmono-system-xml4.0-cil libmono-system4.0-cil libmono-tasklets4.0-cil\\n  libmono-webbrowser4.0-cil libmono-webmatrix-data4.0-cil\\n  libmono-windowsbase4.0-cil libmono-xbuild-tasks4.0-cil libmonoboehm-2.0-1\\n  libmonosgen-2.0-1 libmonosgen-2.0-dev mono-4.0-gac mono-4.0-service\\n  mono-complete mono-csharp-shell mono-devel mono-gac mono-mcs mono-runtime\\n  mono-runtime-common mono-runtime-sgen mono-utils mono-xbuild monodoc-base\\n  monodoc-manual sosreport ubuntu-advantage-tools ubuntu-server\\n0 upgraded, 0 newly installed, 0 to remove and 163 not upgraded.\\n\")\n",
      "Ok(\"\")\n"
     ]
    }
   ],
   "source": [
    "use std::process::Command;\n",
    "\n",
    "// testing console commands thru rust \n",
    "let mut program: &str = \"pwd\";\n",
    "let msg: &str = \"Failed to execute program\";\n",
    "let mut output = Command::new(&mut program).output().expect(&msg);\n",
    "println!(\"{:?}\", String::from_utf8(output.stdout));\n",
    "\n",
    "// installing cargo in case it is not installed\n",
    "output = Command::new(\"sudo\").arg(\"apt-get\").arg(\"upgrade\").arg(\"cargo\").arg(\"-y\").output().expect(&msg);\n",
    "println!(\"{:?}\", String::from_utf8(output.stdout));\n",
    "\n",
    "// installing diesel thru cargo\n",
    "output = Command::new(\"cargo\").args(&[\"install\", \"diesel_cli\"]).output().expect(&msg);\n",
    "println!(\"{:?}\", String::from_utf8(output.stdout));\n"
   ]
  },
  {
   "cell_type": "markdown",
   "id": "2f50a3cd",
   "metadata": {},
   "source": [
    "Setting up database connection."
   ]
  },
  {
   "cell_type": "code",
   "execution_count": 19,
   "id": "33a91472",
   "metadata": {},
   "outputs": [
    {
     "ename": "Error",
     "evalue": "unresolved import `diesel::sqlite`",
     "output_type": "error",
     "traceback": [
      "could not find `sqlite` in `diesel`",
      "unresolved import `diesel::sqlite`"
     ]
    },
    {
     "ename": "Error",
     "evalue": "unresolved import `diesel::pg`",
     "output_type": "error",
     "traceback": [
      "could not find `pg` in `diesel`",
      "unresolved import `diesel::pg`"
     ]
    }
   ],
   "source": [
    "#[macro_use]\n",
    "extern crate diesel;\n",
    "extern crate dotenv;\n",
    "\n",
    "use diesel::sqlite::Sqlite;\n",
    "use diesel::prelude::*;\n",
    "use diesel::pg::PgConnection;\n",
    "use dotenv::dotenv;\n",
    "use std::env;\n",
    "\n",
    "pub fn establish_connection() -> PgConnection {\n",
    "    dotenv().ok();\n",
    "\n",
    "    let database_url = env::var(\"DATABASE_URL\")\n",
    "        .expect(\"DATABASE_URL must be set\");\n",
    "    PgConnection::establish(&database_url)\n",
    "        .expect(&format!(\"Error connecting to {}\", database_url))\n",
    "}"
   ]
  },
  {
   "cell_type": "code",
   "execution_count": null,
   "id": "1611e805",
   "metadata": {},
   "outputs": [],
   "source": []
  },
  {
   "cell_type": "code",
   "execution_count": null,
   "id": "03f0f487",
   "metadata": {},
   "outputs": [],
   "source": []
  },
  {
   "cell_type": "code",
   "execution_count": null,
   "id": "93a535cf",
   "metadata": {},
   "outputs": [],
   "source": []
  },
  {
   "cell_type": "code",
   "execution_count": null,
   "id": "9c77569e",
   "metadata": {},
   "outputs": [],
   "source": []
  }
 ],
 "metadata": {
  "kernelspec": {
   "display_name": "Rust",
   "language": "rust",
   "name": "rust"
  },
  "language_info": {
   "codemirror_mode": "rust",
   "file_extension": ".rs",
   "mimetype": "text/rust",
   "name": "Rust",
   "pygment_lexer": "rust",
   "version": ""
  }
 },
 "nbformat": 4,
 "nbformat_minor": 5
}
